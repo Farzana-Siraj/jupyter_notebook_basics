{
 "cells": [
  {
   "cell_type": "markdown",
   "id": "34f9f72d",
   "metadata": {},
   "source": [
    "# Data Science Tools and Ecosystem"
   ]
  },
  {
   "cell_type": "markdown",
   "id": "3bdaf418",
   "metadata": {},
   "source": [
    "In this notebook, Data Science Tools and Ecosystem are summarized."
   ]
  },
  {
   "cell_type": "markdown",
   "id": "a6e15aee",
   "metadata": {},
   "source": [
    "**Objectives:**\n",
    "* List popular languages for Data Science\n",
    "* List commonly used libraries of Data Science\n",
    "* Evaluates arithmetic expressions in Python\n",
    "    * converts minutes to hours"
   ]
  },
  {
   "cell_type": "markdown",
   "id": "9e1c5ab9",
   "metadata": {},
   "source": [
    "Some of the popular languages that Data Scientists use are:\n",
    "\n",
    "1. Python\n",
    "2. R\n",
    "3. SQL\n",
    "4. Scala\n",
    "5. Java\n",
    "6. C++\n",
    "7. Julia"
   ]
  },
  {
   "cell_type": "markdown",
   "id": "4b7d5608",
   "metadata": {},
   "source": [
    "Some of the commonly used libraries used by Data Scientists include:\n",
    "\n",
    "1. Pandas\n",
    "2. NumPy\n",
    "3. Matplotlib\n",
    "4. Seaborn\n",
    "5. Scikit-learn\n",
    "6. Scipy\n",
    "7. Keras\n",
    "8. TensorFlow\n",
    "9. PyTorch"
   ]
  },
  {
   "cell_type": "markdown",
   "id": "6c342a4c",
   "metadata": {},
   "source": [
    "|Data Science Tools|\n",
    "|------------------|\n",
    "|Apache Spark|\n",
    "|Apache Hadoop|\n",
    "|Jupyter Notebook|\n",
    "|Keras|\n",
    "|Matlab|\n",
    "|MySQL|\n",
    "|Apache CouchDB|"
   ]
  },
  {
   "cell_type": "markdown",
   "id": "b5746b21",
   "metadata": {},
   "source": [
    "### Below are a few examples of evaluating arithmetic expressions in Python"
   ]
  },
  {
   "cell_type": "code",
   "execution_count": 6,
   "id": "36826138",
   "metadata": {},
   "outputs": [
    {
     "data": {
      "text/plain": [
       "17"
      ]
     },
     "execution_count": 6,
     "metadata": {},
     "output_type": "execute_result"
    }
   ],
   "source": [
    "#  This a simple arithmetic expression to mutiply then add integers\n",
    "(3*4)+5"
   ]
  },
  {
   "cell_type": "code",
   "execution_count": 16,
   "id": "63cd1b8d",
   "metadata": {},
   "outputs": [
    {
     "name": "stdout",
     "output_type": "stream",
     "text": [
      "3 Hours 20 Minutes\n"
     ]
    }
   ],
   "source": [
    "# This will convert 200 minutes to hours by diving by 60\n",
    "min = 200\n",
    "h=min // 60\n",
    "m=min%60\n",
    "print(f\"{h} Hours {m} Minutes\")"
   ]
  },
  {
   "cell_type": "markdown",
   "id": "314fe49b",
   "metadata": {},
   "source": [
    "## Author \n",
    "Farzana R"
   ]
  },
  {
   "cell_type": "code",
   "execution_count": null,
   "id": "345817f0",
   "metadata": {},
   "outputs": [],
   "source": []
  }
 ],
 "metadata": {
  "kernelspec": {
   "display_name": "Python 3 (ipykernel)",
   "language": "python",
   "name": "python3"
  },
  "language_info": {
   "codemirror_mode": {
    "name": "ipython",
    "version": 3
   },
   "file_extension": ".py",
   "mimetype": "text/x-python",
   "name": "python",
   "nbconvert_exporter": "python",
   "pygments_lexer": "ipython3",
   "version": "3.11.5"
  }
 },
 "nbformat": 4,
 "nbformat_minor": 5
}
